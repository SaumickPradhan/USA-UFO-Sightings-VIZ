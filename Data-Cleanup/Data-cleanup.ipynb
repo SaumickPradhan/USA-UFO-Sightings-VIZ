{
 "cells": [
  {
   "cell_type": "code",
   "execution_count": 6,
   "metadata": {},
   "outputs": [
    {
     "name": "stdout",
     "output_type": "stream",
     "text": [
      "              date_time             city_area state country ufo_shape  \\\n",
      "0      10/10/1949 20:30            san marcos    tx      us  cylinder   \n",
      "1      10/10/1949 21:00          lackland afb    tx     NaN     light   \n",
      "2      10/10/1955 17:00  chester (uk/england)   NaN      gb    circle   \n",
      "3      10/10/1956 21:00                  edna    tx      us    circle   \n",
      "4      10/10/1960 20:00               kaneohe    hi      us     light   \n",
      "...                 ...                   ...   ...     ...       ...   \n",
      "80327    9/9/2013 21:15             nashville    tn      us     light   \n",
      "80328    9/9/2013 22:00                 boise    id      us    circle   \n",
      "80329    9/9/2013 22:00                  napa    ca      us     other   \n",
      "80330    9/9/2013 22:20                vienna    va      us    circle   \n",
      "80331    9/9/2013 23:00                edmond    ok      us     cigar   \n",
      "\n",
      "       encounter_length described_encounter_length  \\\n",
      "0                2700.0                 45 minutes   \n",
      "1                7200.0                    1-2 hrs   \n",
      "2                  20.0                 20 seconds   \n",
      "3                  20.0                   1/2 hour   \n",
      "4                 900.0                 15 minutes   \n",
      "...                 ...                        ...   \n",
      "80327             600.0                 10 minutes   \n",
      "80328            1200.0                 20 minutes   \n",
      "80329            1200.0                       hour   \n",
      "80330               5.0                  5 seconds   \n",
      "80331            1020.0                 17 minutes   \n",
      "\n",
      "                                             description date_documented  \\\n",
      "0      This event took place in early fall around 194...       4/27/2004   \n",
      "1      1949 Lackland AFB&#44 TX.  Lights racing acros...      12/16/2005   \n",
      "2      Green/Orange circular disc over Chester&#44 En...       1/21/2008   \n",
      "3      My older brother and twin sister were leaving ...       1/17/2004   \n",
      "4      AS a Marine 1st Lt. flying an FJ4B fighter/att...       1/22/2004   \n",
      "...                                                  ...             ...   \n",
      "80327  Round from the distance/slowly changing colors...       9/30/2013   \n",
      "80328  Boise&#44 ID&#44 spherical&#44 20 min&#44 10 r...       9/30/2013   \n",
      "80329                                       Napa UFO&#44       9/30/2013   \n",
      "80330  Saw a five gold lit cicular craft moving fastl...       9/30/2013   \n",
      "80331  2 witnesses 2  miles apart&#44 Red &amp; White...       9/30/2013   \n",
      "\n",
      "        latitude   longitude  \n",
      "0      29.883056  -97.941111  \n",
      "1      29.384210  -98.581082  \n",
      "2      53.200000   -2.916667  \n",
      "3      28.978333  -96.645833  \n",
      "4      21.418056 -157.803611  \n",
      "...          ...         ...  \n",
      "80327  36.165833  -86.784444  \n",
      "80328  43.613611 -116.202500  \n",
      "80329  38.297222 -122.284444  \n",
      "80330  38.901111  -77.265556  \n",
      "80331  35.652778  -97.477778  \n",
      "\n",
      "[80332 rows x 11 columns]\n"
     ]
    }
   ],
   "source": [
    "import pandas as pd\n",
    "df = pd.read_csv(\"../data/ufo_sightings.csv\")\n",
    "# Display the DataFrame\n",
    "print(df)"
   ]
  },
  {
   "cell_type": "code",
   "execution_count": 8,
   "metadata": {},
   "outputs": [
    {
     "name": "stdout",
     "output_type": "stream",
     "text": [
      "              date_time   city_area state country ufo_shape  encounter_length  \\\n",
      "0      10/10/1949 20:30  san marcos    tx      us  cylinder            2700.0   \n",
      "3      10/10/1956 21:00        edna    tx      us    circle              20.0   \n",
      "4      10/10/1960 20:00     kaneohe    hi      us     light             900.0   \n",
      "5      10/10/1961 19:00     bristol    tn      us    sphere             300.0   \n",
      "7      10/10/1965 23:45     norwalk    ct      us      disk            1200.0   \n",
      "...                 ...         ...   ...     ...       ...               ...   \n",
      "80327    9/9/2013 21:15   nashville    tn      us     light             600.0   \n",
      "80328    9/9/2013 22:00       boise    id      us    circle            1200.0   \n",
      "80329    9/9/2013 22:00        napa    ca      us     other            1200.0   \n",
      "80330    9/9/2013 22:20      vienna    va      us    circle               5.0   \n",
      "80331    9/9/2013 23:00      edmond    ok      us     cigar            1020.0   \n",
      "\n",
      "      described_encounter_length  \\\n",
      "0                     45 minutes   \n",
      "3                       1/2 hour   \n",
      "4                     15 minutes   \n",
      "5                      5 minutes   \n",
      "7                     20 minutes   \n",
      "...                          ...   \n",
      "80327                 10 minutes   \n",
      "80328                 20 minutes   \n",
      "80329                       hour   \n",
      "80330                  5 seconds   \n",
      "80331                 17 minutes   \n",
      "\n",
      "                                             description date_documented  \\\n",
      "0      This event took place in early fall around 194...       4/27/2004   \n",
      "3      My older brother and twin sister were leaving ...       1/17/2004   \n",
      "4      AS a Marine 1st Lt. flying an FJ4B fighter/att...       1/22/2004   \n",
      "5      My father is now 89 my brother 52 the girl wit...       4/27/2007   \n",
      "7      A bright orange color changing to reddish colo...       10/2/1999   \n",
      "...                                                  ...             ...   \n",
      "80327  Round from the distance/slowly changing colors...       9/30/2013   \n",
      "80328  Boise&#44 ID&#44 spherical&#44 20 min&#44 10 r...       9/30/2013   \n",
      "80329                                       Napa UFO&#44       9/30/2013   \n",
      "80330  Saw a five gold lit cicular craft moving fastl...       9/30/2013   \n",
      "80331  2 witnesses 2  miles apart&#44 Red &amp; White...       9/30/2013   \n",
      "\n",
      "        latitude   longitude  \n",
      "0      29.883056  -97.941111  \n",
      "3      28.978333  -96.645833  \n",
      "4      21.418056 -157.803611  \n",
      "5      36.595000  -82.188889  \n",
      "7      41.117500  -73.408333  \n",
      "...          ...         ...  \n",
      "80327  36.165833  -86.784444  \n",
      "80328  43.613611 -116.202500  \n",
      "80329  38.297222 -122.284444  \n",
      "80330  38.901111  -77.265556  \n",
      "80331  35.652778  -97.477778  \n",
      "\n",
      "[66516 rows x 11 columns]\n"
     ]
    },
    {
     "data": {
      "text/plain": [
       "False"
      ]
     },
     "execution_count": 8,
     "metadata": {},
     "output_type": "execute_result"
    }
   ],
   "source": [
    "df_new = df.dropna()\n",
    "print(df_new)\n",
    "df_new.isnull().values.any()\n"
   ]
  },
  {
   "cell_type": "code",
   "execution_count": 9,
   "metadata": {},
   "outputs": [],
   "source": [
    "df_new.to_csv('../data/ufo_sightings_NMV.csv', index=False) # saving it as No Missing Values (MSV)"
   ]
  }
 ],
 "metadata": {
  "kernelspec": {
   "display_name": "Python 3",
   "language": "python",
   "name": "python3"
  },
  "language_info": {
   "codemirror_mode": {
    "name": "ipython",
    "version": 3
   },
   "file_extension": ".py",
   "mimetype": "text/x-python",
   "name": "python",
   "nbconvert_exporter": "python",
   "pygments_lexer": "ipython3",
   "version": "3.12.1"
  }
 },
 "nbformat": 4,
 "nbformat_minor": 2
}
